{
 "cells": [
  {
   "cell_type": "markdown",
   "metadata": {},
   "source": [
    "1) Observe o trecho de código abaixo:\n",
    "\n",
    "int INDICE = 13, SOMA = 0, K = 0;\n",
    "\n",
    "enquanto K < INDICE faça\n",
    "\n",
    "{\n",
    "\n",
    "K = K + 1;\n",
    "\n",
    "SOMA = SOMA + K;\n",
    "\n",
    "}\n",
    "\n",
    "imprimir(SOMA);\n",
    "\n",
    "\n",
    "\n",
    "Ao final do processamento, qual será o valor da variável SOMA?"
   ]
  },
  {
   "cell_type": "markdown",
   "metadata": {},
   "source": [
    "**Resposta:** 91        "
   ]
  },
  {
   "cell_type": "markdown",
   "metadata": {},
   "source": [
    "2) Dado a sequência de Fibonacci, onde se inicia por 0 e 1 e o próximo valor sempre será a soma dos 2 valores anteriores (exemplo: 0, 1, 1, 2, 3, 5, 8, 13, 21, 34...), escreva um programa na linguagem que desejar onde, informado um número, ele calcule a sequência de Fibonacci e retorne uma mensagem avisando se o número informado pertence ou não a sequência."
   ]
  },
  {
   "cell_type": "code",
   "execution_count": 8,
   "metadata": {},
   "outputs": [
    {
     "name": "stdout",
     "output_type": "stream",
     "text": [
      "O número 22 não pertence à sequência de Fibonacci.\n"
     ]
    }
   ],
   "source": [
    "# Resposta pergunta 2\n",
    "def fibonacci(n):\n",
    "    fib = [0, 1]\n",
    "\n",
    "    #Calcula os n termos da sequência, o ultimo termo sempre sera maior que n. \n",
    "    #Adiciona termo a termo a lista fib\n",
    "    while fib[-1] <= n:\n",
    "        fib.append(fib[-1] + fib[-2])\n",
    "\n",
    "    # Verifica se o número pertence à sequência\n",
    "    if n in fib:\n",
    "        return True\n",
    "    else:\n",
    "        return False\n",
    "\n",
    "numero = int(input(\"Digite um número para verificar se pertence à sequência de Fibonacci: \"))\n",
    "\n",
    "# chamando função verifica\n",
    "if fibonacci(numero):\n",
    "    print(f\"O número {numero} pertence à sequência de Fibonacci.\")\n",
    "else:\n",
    "    print(f\"O número {numero} não pertence à sequência de Fibonacci.\")\n"
   ]
  },
  {
   "cell_type": "markdown",
   "metadata": {},
   "source": [
    "**Resposta pergunta 3:**\n",
    "3) Descubra a lógica e complete o próximo elemento:\n",
    "\n",
    "\n",
    "\n",
    "a) 1, 3, 5, 7, __9__\n",
    "\n",
    "b) 2, 4, 8, 16, 32, 64, __128__\n",
    "\n",
    "c) 0, 1, 4, 9, 16, 25, 36, __49__\n",
    "\n",
    "d) 4, 16, 36, 64, __100__\n",
    "\n",
    "e) 1, 1, 2, 3, 5, 8, __13__\n",
    "\n",
    "f) 2,10, 12, 16, 17, 18, 19, __28__\n"
   ]
  },
  {
   "cell_type": "markdown",
   "metadata": {},
   "source": [
    "4) Você está em uma sala com três interruptores, cada um conectado a uma lâmpada em uma sala diferente. Você não pode ver as lâmpadas da sala em que está, mas pode ligar e desligar os interruptores quantas vezes quiser. Seu objetivo é descobrir qual interruptor controla qual lâmpada.\n",
    "\n",
    "Como você faria para descobrir, usando apenas duas idas até uma das salas das lâmpadas, qual interruptor controla cada lâmpada?"
   ]
  },
  {
   "cell_type": "markdown",
   "metadata": {},
   "source": [
    "**Resposta pergunta 4:** A lâmpada sendo um objeto cujo e físíca define como um resistor que ao passagem de corrente libera luz e calor, isto é, para descobrir acende-se uma lâmpada, espera-se alguns minutos, entra uma vez na sala onde as lâmpadas se encontram e verifica qual lâmpada apresenta maior temperatura, a lâmpada em questão será a que pertence ao único interruptor ligado anteriormente, repete-se o processo para o próximo interruptor, indo na sala pela segunda vez depois de alguns minútos com a segundo teste ligado, e por fim, a lâmpada que sobrar será do interruptor que falta dos 3 em questão."
   ]
  },
  {
   "cell_type": "code",
   "execution_count": 14,
   "metadata": {},
   "outputs": [
    {
     "name": "stdout",
     "output_type": "stream",
     "text": [
      "arvalapamu\n"
     ]
    }
   ],
   "source": [
    "def inverte(palavra):\n",
    "    return palavra[::-1]\n",
    "palavra = input(\"Digite uma palavra para inverter: \")\n",
    "print(inverte(palavra))\n",
    "           "
   ]
  },
  {
   "cell_type": "code",
   "execution_count": null,
   "metadata": {},
   "outputs": [],
   "source": []
  }
 ],
 "metadata": {
  "kernelspec": {
   "display_name": "Python 3",
   "language": "python",
   "name": "python3"
  },
  "language_info": {
   "codemirror_mode": {
    "name": "ipython",
    "version": 3
   },
   "file_extension": ".py",
   "mimetype": "text/x-python",
   "name": "python",
   "nbconvert_exporter": "python",
   "pygments_lexer": "ipython3",
   "version": "3.10.11"
  },
  "orig_nbformat": 4
 },
 "nbformat": 4,
 "nbformat_minor": 2
}
